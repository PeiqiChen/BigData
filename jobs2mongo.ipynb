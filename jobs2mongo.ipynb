{
 "cells": [
  {
   "attachments": {},
   "cell_type": "markdown",
   "metadata": {},
   "source": [
    "## ETL workflow"
   ]
  },
  {
   "attachments": {},
   "cell_type": "markdown",
   "metadata": {},
   "source": [
    "### Extract Raw Data"
   ]
  },
  {
   "attachments": {},
   "cell_type": "markdown",
   "metadata": {},
   "source": [
    "#### Extract data from first API: JSearch\n",
    "https://rapidapi.com/letscrape-6bRBa3QguO5/api/jsearch/"
   ]
  },
  {
   "cell_type": "code",
   "execution_count": 1,
   "metadata": {},
   "outputs": [],
   "source": [
    "def api_1_mongo(api_data, collection):\n",
    "    job_dict = {}\n",
    "    for i in range(len(api_data[\"data\"])):\n",
    "            job_dict = api_data[\"data\"][i]\n",
    "            collection.insert_one(job_dict)"
   ]
  },
  {
   "cell_type": "code",
   "execution_count": 2,
   "metadata": {},
   "outputs": [],
   "source": [
    "import pymongo\n",
    "import requests\n",
    "\n",
    "# connect to mogoDB\n",
    "client = pymongo.MongoClient(\"mongodb://localhost:27017/\")\n",
    "db = client[\"bigdata\"]\n",
    "\n",
    "url = \"https://jsearch.p.rapidapi.com/search\"\n",
    "\n",
    "query_jobs = [\"Software Engineer\", \"Technical Manager\", \"Data Scientist\",  \"Researcher\", \"Cloud Developer\"]\n",
    "collection_list = [\"software_engineer\",\"technical_manager\", \"data_scientist\",  \"researcher\", \"cloud_developer\"]\n",
    "headers = {\n",
    "\t\"content-type\": \"application/octet-stream\",\n",
    "\t\"X-RapidAPI-Key\": \"5dcca9a446mshc45e979b7c63b61p110313jsn2355dc91241e\",\n",
    "\t\"X-RapidAPI-Host\": \"jsearch.p.rapidapi.com\"\n",
    "}\n",
    "\n",
    "for i in range(len(query_jobs)):\n",
    "    querystring = {\"query\":query_jobs[i],\"page\":\"1\",\"num_pages\":\"20\",\"date_posted\":\"all\"}\n",
    "    response = requests.get(url, headers=headers, params=querystring)\n",
    "    data_dict = response.json()\n",
    "    collection = db[collection_list[i]]\n",
    "    api_1_mongo(data_dict, collection)\n",
    "\n"
   ]
  },
  {
   "attachments": {},
   "cell_type": "markdown",
   "metadata": {},
   "source": [
    "#### Extract data from second API: linked in \n",
    "https://rapidapi.com/jaypat87/api/linkedin-jobs-search/\n"
   ]
  },
  {
   "cell_type": "code",
   "execution_count": 3,
   "metadata": {},
   "outputs": [],
   "source": [
    "def api_2_mongo(apidata, collection):\n",
    "   for i, item in enumerate(apidata):\n",
    "      if isinstance(item, dict):\n",
    "         collection.insert_one(item)\n",
    "         "
   ]
  },
  {
   "cell_type": "code",
   "execution_count": 4,
   "metadata": {},
   "outputs": [],
   "source": [
    "import requests\n",
    "url = \"https://linkedin-jobs-search.p.rapidapi.com/\"\n",
    "\n",
    "headers = {\n",
    " \"content-type\": \"application/json\",\n",
    " \"X-RapidAPI-Key\": \"5dcca9a446mshc45e979b7c63b61p110313jsn2355dc91241e\",\n",
    " \"X-RapidAPI-Host\": \"linkedin-jobs-search.p.rapidapi.com\"\n",
    "}\n",
    "\n",
    "\n",
    "for i in range(len(query_jobs)):\n",
    "    payload = {\n",
    "\t\t\"search_terms\":query_jobs[i],\n",
    "\t\t\"location\": \"United States\",\n",
    "\t\t\"page\": 1\n",
    "\t\t}\n",
    "    response = requests.post(url, json=payload, headers=headers)\n",
    "    data_dict = response.json()\n",
    "    collection = db[collection_list[i]]\n",
    "    api_2_mongo(data_dict, collection)\n",
    "        \n"
   ]
  },
  {
   "attachments": {},
   "cell_type": "markdown",
   "metadata": {},
   "source": [
    "#### Extract data from third API\n",
    "Indeed, Talent, Snagajob, Careerbuilder and Nexxt\n",
    "\n",
    "https://rapidapi.com/jaypat87/api/indeed11\n",
    "\n",
    "This APi is used for get pay for each job"
   ]
  },
  {
   "cell_type": "code",
   "execution_count": 5,
   "metadata": {},
   "outputs": [],
   "source": [
    "def api_3_mongo(apidata, collection, location):\n",
    "   try:\n",
    "      for item in apidata[\"results\"]:\n",
    "          insert_dict = {\"location\" :location}\n",
    "          insert_dict['job_title'] = item['job']['job_title']\n",
    "          insert_dict['company'] = item['job']['company']\n",
    "          insert_dict['job_details'] = item['job_details']['link']\n",
    "          insert_dict['pay'] = item['job_details']['pay']\n",
    "          collection.insert_one(insert_dict)\n",
    "   except KeyError:\n",
    "      print(apidata)"
   ]
  },
  {
   "cell_type": "code",
   "execution_count": 6,
   "metadata": {},
   "outputs": [
    {
     "name": "stdout",
     "output_type": "stream",
     "text": [
      "new collections:  ['software_engineer_pay', 'technical_manager_pay', 'data_scientist_pay', 'researcher_pay', 'cloud_developer_pay']\n",
      "end\n",
      "end\n"
     ]
    }
   ],
   "source": [
    "import requests\n",
    "url = \"https://job-board-search-fastapply.p.rapidapi.com/us/snagajob/fetchjobs\"\n",
    "headers =[{\n",
    "\t\"content-type\": \"application/json\",\n",
    "\t\"X-RapidAPI-Key\": \"394d899556msh4f0740173b447c1p1e6a45jsnfd1521c2520f\",\n",
    "\t\"X-RapidAPI-Host\": \"job-board-search-fastapply.p.rapidapi.com\"\n",
    "},\n",
    " {\n",
    " \"content-type\": \"application/json\",\n",
    " \"X-RapidAPI-Key\": \"5dcca9a446mshc45e979b7c63b61p110313jsn2355dc91241e\",\n",
    " \"X-RapidAPI-Host\": \"job-board-search-fastapply.p.rapidapi.com\"\n",
    "},\n",
    "{\n",
    "    'content-type': 'application/json',\n",
    "    'X-RapidAPI-Key': 'a668dfde94msh4ef920baed52701p11288cjsnd7650a4668cf',\n",
    "    'X-RapidAPI-Host': 'job-board-search-fastapply.p.rapidapi.com'\n",
    "  },\n",
    "  {\n",
    "\t\"content-type\": \"application/json\",\n",
    "\t\"X-RapidAPI-Key\": \"84053fe846msh32e4835fd7634fcp161e65jsn2bab6bacf9cb\",\n",
    "\t\"X-RapidAPI-Host\": \"job-board-search-fastapply.p.rapidapi.com\"\n",
    "}\n",
    "] \n",
    "\n",
    "pay_collection_list = []\n",
    "\n",
    "for item in collection_list:\n",
    "    item =item.strip()+ \"_pay\"\n",
    "    pay_collection_list.append(item)\n",
    "print(\"new collections: \", pay_collection_list)\n",
    "\n",
    "locations = [\"New York\", \"California\", \"Washington\", \"Texas\",\"Illinois\", \"Remote\"]\n",
    "header_count = 0\n",
    "prev_data = None\n",
    "for i in range(len(query_jobs)):\n",
    "    for location in locations:\n",
    "        payload = {\n",
    "\t\t\"keyword\": query_jobs[i],\n",
    "\t\t\"location\": location,\n",
    "\t\t\"radius\": 15,\n",
    "\t\t\"page_number\": 1\n",
    "\t\t} \n",
    "        try:\n",
    "            response = requests.post(url, json=payload, headers=headers[header_count])\n",
    "        \n",
    "            if(response.json() == {'message': 'You have exceeded the rate limit per minute for your plan, BASIC, by the API provider'}):\n",
    "                header_count += 1\n",
    "                continue\n",
    "            if(response.json() == prev_data):\n",
    "                continue\n",
    "            \n",
    "            data_dict = response.json()\n",
    "            collection = db[pay_collection_list[i]]\n",
    "            api_3_mongo(data_dict, collection, location)\n",
    "            prev_data = response.json()\n",
    "        except IndexError:\n",
    "            print(\"end\")"
   ]
  },
  {
   "attachments": {},
   "cell_type": "markdown",
   "metadata": {},
   "source": [
    "### Transform Raw Data"
   ]
  },
  {
   "attachments": {},
   "cell_type": "markdown",
   "metadata": {},
   "source": [
    "#### Clean Wrong Data(Title doeen't match with query's title)"
   ]
  },
  {
   "cell_type": "code",
   "execution_count": 9,
   "metadata": {},
   "outputs": [],
   "source": [
    "def clean_title_wrong_data(field, value, collection, colname):\n",
    "    query = {field : {\"$exists\":True}}\n",
    "    value_split = value.split()\n",
    "    documents = collection.find(query)\n",
    "    clean_count = 0\n",
    "    for doc in documents:\n",
    "        title = doc[field]\n",
    "        lower_title =title.lower()\n",
    "        for item in value_split:\n",
    "            if item in lower_title:\n",
    "                continue\n",
    "            else:\n",
    "                clean_count += 1\n",
    "                collection.find_one_and_delete({field : title})\n",
    "                \n",
    "    print(colname,\"collection cleaned data :\", clean_count)\n",
    "    \n",
    "    "
   ]
  },
  {
   "cell_type": "code",
   "execution_count": 10,
   "metadata": {},
   "outputs": [
    {
     "name": "stdout",
     "output_type": "stream",
     "text": [
      "software_engineer_pay collection cleaned data : 169\n",
      "technical_manager_pay collection cleaned data : 171\n",
      "data_scientist_pay collection cleaned data : 118\n",
      "researcher_pay collection cleaned data : 144\n",
      "cloud_developer_pay collection cleaned data : 126\n"
     ]
    }
   ],
   "source": [
    "client = pymongo.MongoClient(\"mongodb://localhost:27017/\")\n",
    "db = client[\"bigdata\"]\n",
    "\n",
    "for i in range(len(query_jobs)):\n",
    "    clean_title_wrong_data(field=\"job_title\", value = query_jobs[i].lower(), collection=db[pay_collection_list[i]], colname = pay_collection_list[i])"
   ]
  },
  {
   "attachments": {},
   "cell_type": "markdown",
   "metadata": {},
   "source": [
    "#### Clean Data Without \"pay_hourly\""
   ]
  },
  {
   "cell_type": "code",
   "execution_count": 7,
   "metadata": {},
   "outputs": [],
   "source": [
    "import matplotlib.pyplot as plt\n",
    "import numpy as np\n",
    "\n",
    "def clean_pay_noexist(collection, col_name):\n",
    "    ori_doc = collection.count_documents({})\n",
    "    query = {\"pay.pay_hourly\" : {\"$exists\": False}}\n",
    "    collection.delete_many(query)\n",
    "    cur_doc = collection.count_documents({})\n",
    "    print(col_name , \"collection cleaned data: \", ori_doc - cur_doc)"
   ]
  },
  {
   "cell_type": "code",
   "execution_count": 8,
   "metadata": {},
   "outputs": [
    {
     "name": "stdout",
     "output_type": "stream",
     "text": [
      "software_engineer_pay collection cleaned data:  2\n",
      "technical_manager_pay collection cleaned data:  1\n",
      "data_scientist_pay collection cleaned data:  11\n",
      "researcher_pay collection cleaned data:  6\n",
      "cloud_developer_pay collection cleaned data:  1\n"
     ]
    }
   ],
   "source": [
    "client = pymongo.MongoClient(\"mongodb://localhost:27017/\")\n",
    "db = client[\"bigdata\"]\n",
    "\n",
    "for i in range(len(pay_collection_list)):\n",
    "   clean_pay_noexist(db[pay_collection_list[i]],pay_collection_list[i])"
   ]
  },
  {
   "attachments": {},
   "cell_type": "markdown",
   "metadata": {},
   "source": [
    "#### Clean Duplicate Data"
   ]
  },
  {
   "cell_type": "code",
   "execution_count": 220,
   "metadata": {},
   "outputs": [
    {
     "ename": "InvalidDocument",
     "evalue": "cannot encode object: {'$job_details'}, of type: <class 'set'>",
     "output_type": "error",
     "traceback": [
      "\u001b[0;31m---------------------------------------------------------------------------\u001b[0m",
      "\u001b[0;31mInvalidDocument\u001b[0m                           Traceback (most recent call last)",
      "Cell \u001b[0;32mIn[220], line 5\u001b[0m\n\u001b[1;32m      3\u001b[0m db \u001b[39m=\u001b[39m client[\u001b[39m\"\u001b[39m\u001b[39mbigdata\u001b[39m\u001b[39m\"\u001b[39m]\n\u001b[1;32m      4\u001b[0m collection \u001b[39m=\u001b[39m db[\u001b[39m'\u001b[39m\u001b[39msoftware_engineer_pay\u001b[39m\u001b[39m'\u001b[39m]\n\u001b[0;32m----> 5\u001b[0m deleteData\u001b[39m=\u001b[39mcollection\u001b[39m.\u001b[39;49maggregate([\n\u001b[1;32m      6\u001b[0m {\u001b[39m'\u001b[39;49m\u001b[39m$group\u001b[39;49m\u001b[39m'\u001b[39;49m: { \n\u001b[1;32m      7\u001b[0m     \u001b[39m'\u001b[39;49m\u001b[39m_id\u001b[39;49m\u001b[39m'\u001b[39;49m: { \u001b[39m\"\u001b[39;49m\u001b[39m$job_details\u001b[39;49m\u001b[39m\"\u001b[39;49m}, \n\u001b[1;32m      8\u001b[0m     \u001b[39m'\u001b[39;49m\u001b[39muniqueIds\u001b[39;49m\u001b[39m'\u001b[39;49m: { \u001b[39m'\u001b[39;49m\u001b[39m$addToSet\u001b[39;49m\u001b[39m'\u001b[39;49m: \u001b[39m\"\u001b[39;49m\u001b[39m$_id\u001b[39;49m\u001b[39m\"\u001b[39;49m },\n\u001b[1;32m      9\u001b[0m     \u001b[39m'\u001b[39;49m\u001b[39mcount\u001b[39;49m\u001b[39m'\u001b[39;49m: { \u001b[39m'\u001b[39;49m\u001b[39m$sum\u001b[39;49m\u001b[39m'\u001b[39;49m: \u001b[39m1\u001b[39;49m } \n\u001b[1;32m     10\u001b[0m   }}, \n\u001b[1;32m     11\u001b[0m   { \u001b[39m'\u001b[39;49m\u001b[39m$match\u001b[39;49m\u001b[39m'\u001b[39;49m: { \n\u001b[1;32m     12\u001b[0m     \u001b[39m'\u001b[39;49m\u001b[39mcount\u001b[39;49m\u001b[39m'\u001b[39;49m: { \u001b[39m'\u001b[39;49m\u001b[39m$gt\u001b[39;49m\u001b[39m'\u001b[39;49m: \u001b[39m1\u001b[39;49m } \n\u001b[1;32m     13\u001b[0m   }}\n\u001b[1;32m     14\u001b[0m ]);\n\u001b[1;32m     15\u001b[0m first\u001b[39m=\u001b[39m\u001b[39mTrue\u001b[39;00m\n\u001b[1;32m     16\u001b[0m \u001b[39mfor\u001b[39;00m d \u001b[39min\u001b[39;00m deleteData:\n",
      "File \u001b[0;32m~/Library/Python/3.8/lib/python/site-packages/pymongo/collection.py:2436\u001b[0m, in \u001b[0;36mCollection.aggregate\u001b[0;34m(self, pipeline, session, let, comment, **kwargs)\u001b[0m\n\u001b[1;32m   2358\u001b[0m \u001b[39m\u001b[39m\u001b[39m\"\"\"Perform an aggregation using the aggregation framework on this\u001b[39;00m\n\u001b[1;32m   2359\u001b[0m \u001b[39mcollection.\u001b[39;00m\n\u001b[1;32m   2360\u001b[0m \n\u001b[0;32m   (...)\u001b[0m\n\u001b[1;32m   2432\u001b[0m \u001b[39m    https://mongodb.com/docs/manual/reference/command/aggregate\u001b[39;00m\n\u001b[1;32m   2433\u001b[0m \u001b[39m\"\"\"\u001b[39;00m\n\u001b[1;32m   2435\u001b[0m \u001b[39mwith\u001b[39;00m \u001b[39mself\u001b[39m\u001b[39m.\u001b[39m__database\u001b[39m.\u001b[39mclient\u001b[39m.\u001b[39m_tmp_session(session, close\u001b[39m=\u001b[39m\u001b[39mFalse\u001b[39;00m) \u001b[39mas\u001b[39;00m s:\n\u001b[0;32m-> 2436\u001b[0m     \u001b[39mreturn\u001b[39;00m \u001b[39mself\u001b[39;49m\u001b[39m.\u001b[39;49m_aggregate(\n\u001b[1;32m   2437\u001b[0m         _CollectionAggregationCommand,\n\u001b[1;32m   2438\u001b[0m         pipeline,\n\u001b[1;32m   2439\u001b[0m         CommandCursor,\n\u001b[1;32m   2440\u001b[0m         session\u001b[39m=\u001b[39;49ms,\n\u001b[1;32m   2441\u001b[0m         explicit_session\u001b[39m=\u001b[39;49msession \u001b[39mis\u001b[39;49;00m \u001b[39mnot\u001b[39;49;00m \u001b[39mNone\u001b[39;49;00m,\n\u001b[1;32m   2442\u001b[0m         let\u001b[39m=\u001b[39;49mlet,\n\u001b[1;32m   2443\u001b[0m         comment\u001b[39m=\u001b[39;49mcomment,\n\u001b[1;32m   2444\u001b[0m         \u001b[39m*\u001b[39;49m\u001b[39m*\u001b[39;49mkwargs,\n\u001b[1;32m   2445\u001b[0m     )\n",
      "File \u001b[0;32m~/Library/Python/3.8/lib/python/site-packages/pymongo/_csot.py:105\u001b[0m, in \u001b[0;36mapply.<locals>.csot_wrapper\u001b[0;34m(self, *args, **kwargs)\u001b[0m\n\u001b[1;32m    103\u001b[0m         \u001b[39mwith\u001b[39;00m _TimeoutContext(timeout):\n\u001b[1;32m    104\u001b[0m             \u001b[39mreturn\u001b[39;00m func(\u001b[39mself\u001b[39m, \u001b[39m*\u001b[39margs, \u001b[39m*\u001b[39m\u001b[39m*\u001b[39mkwargs)\n\u001b[0;32m--> 105\u001b[0m \u001b[39mreturn\u001b[39;00m func(\u001b[39mself\u001b[39;49m, \u001b[39m*\u001b[39;49margs, \u001b[39m*\u001b[39;49m\u001b[39m*\u001b[39;49mkwargs)\n",
      "File \u001b[0;32m~/Library/Python/3.8/lib/python/site-packages/pymongo/collection.py:2343\u001b[0m, in \u001b[0;36mCollection._aggregate\u001b[0;34m(self, aggregation_command, pipeline, cursor_class, session, explicit_session, let, comment, **kwargs)\u001b[0m\n\u001b[1;32m   2332\u001b[0m     kwargs[\u001b[39m\"\u001b[39m\u001b[39mcomment\u001b[39m\u001b[39m\"\u001b[39m] \u001b[39m=\u001b[39m comment\n\u001b[1;32m   2333\u001b[0m cmd \u001b[39m=\u001b[39m aggregation_command(\n\u001b[1;32m   2334\u001b[0m     \u001b[39mself\u001b[39m,\n\u001b[1;32m   2335\u001b[0m     cursor_class,\n\u001b[0;32m   (...)\u001b[0m\n\u001b[1;32m   2340\u001b[0m     user_fields\u001b[39m=\u001b[39m{\u001b[39m\"\u001b[39m\u001b[39mcursor\u001b[39m\u001b[39m\"\u001b[39m: {\u001b[39m\"\u001b[39m\u001b[39mfirstBatch\u001b[39m\u001b[39m\"\u001b[39m: \u001b[39m1\u001b[39m}},\n\u001b[1;32m   2341\u001b[0m )\n\u001b[0;32m-> 2343\u001b[0m \u001b[39mreturn\u001b[39;00m \u001b[39mself\u001b[39;49m\u001b[39m.\u001b[39;49m__database\u001b[39m.\u001b[39;49mclient\u001b[39m.\u001b[39;49m_retryable_read(\n\u001b[1;32m   2344\u001b[0m     cmd\u001b[39m.\u001b[39;49mget_cursor,\n\u001b[1;32m   2345\u001b[0m     cmd\u001b[39m.\u001b[39;49mget_read_preference(session),\n\u001b[1;32m   2346\u001b[0m     session,\n\u001b[1;32m   2347\u001b[0m     retryable\u001b[39m=\u001b[39;49m\u001b[39mnot\u001b[39;49;00m cmd\u001b[39m.\u001b[39;49m_performs_write,\n\u001b[1;32m   2348\u001b[0m )\n",
      "File \u001b[0;32m~/Library/Python/3.8/lib/python/site-packages/pymongo/_csot.py:105\u001b[0m, in \u001b[0;36mapply.<locals>.csot_wrapper\u001b[0;34m(self, *args, **kwargs)\u001b[0m\n\u001b[1;32m    103\u001b[0m         \u001b[39mwith\u001b[39;00m _TimeoutContext(timeout):\n\u001b[1;32m    104\u001b[0m             \u001b[39mreturn\u001b[39;00m func(\u001b[39mself\u001b[39m, \u001b[39m*\u001b[39margs, \u001b[39m*\u001b[39m\u001b[39m*\u001b[39mkwargs)\n\u001b[0;32m--> 105\u001b[0m \u001b[39mreturn\u001b[39;00m func(\u001b[39mself\u001b[39;49m, \u001b[39m*\u001b[39;49margs, \u001b[39m*\u001b[39;49m\u001b[39m*\u001b[39;49mkwargs)\n",
      "File \u001b[0;32m~/Library/Python/3.8/lib/python/site-packages/pymongo/mongo_client.py:1448\u001b[0m, in \u001b[0;36mMongoClient._retryable_read\u001b[0;34m(self, func, read_pref, session, address, retryable)\u001b[0m\n\u001b[1;32m   1446\u001b[0m             \u001b[39massert\u001b[39;00m last_error \u001b[39mis\u001b[39;00m \u001b[39mnot\u001b[39;00m \u001b[39mNone\u001b[39;00m\n\u001b[1;32m   1447\u001b[0m             \u001b[39mraise\u001b[39;00m last_error\n\u001b[0;32m-> 1448\u001b[0m         \u001b[39mreturn\u001b[39;00m func(session, server, sock_info, read_pref)\n\u001b[1;32m   1449\u001b[0m \u001b[39mexcept\u001b[39;00m ServerSelectionTimeoutError:\n\u001b[1;32m   1450\u001b[0m     \u001b[39mif\u001b[39;00m retrying:\n\u001b[1;32m   1451\u001b[0m         \u001b[39m# The application may think the write was never attempted\u001b[39;00m\n\u001b[1;32m   1452\u001b[0m         \u001b[39m# if we raise ServerSelectionTimeoutError on the retry\u001b[39;00m\n\u001b[1;32m   1453\u001b[0m         \u001b[39m# attempt. Raise the original exception instead.\u001b[39;00m\n",
      "File \u001b[0;32m~/Library/Python/3.8/lib/python/site-packages/pymongo/aggregation.py:142\u001b[0m, in \u001b[0;36m_AggregationCommand.get_cursor\u001b[0;34m(self, session, server, sock_info, read_preference)\u001b[0m\n\u001b[1;32m    139\u001b[0m     write_concern \u001b[39m=\u001b[39m \u001b[39mNone\u001b[39;00m\n\u001b[1;32m    141\u001b[0m \u001b[39m# Run command.\u001b[39;00m\n\u001b[0;32m--> 142\u001b[0m result \u001b[39m=\u001b[39m sock_info\u001b[39m.\u001b[39;49mcommand(\n\u001b[1;32m    143\u001b[0m     \u001b[39mself\u001b[39;49m\u001b[39m.\u001b[39;49m_database\u001b[39m.\u001b[39;49mname,\n\u001b[1;32m    144\u001b[0m     cmd,\n\u001b[1;32m    145\u001b[0m     read_preference,\n\u001b[1;32m    146\u001b[0m     \u001b[39mself\u001b[39;49m\u001b[39m.\u001b[39;49m_target\u001b[39m.\u001b[39;49mcodec_options,\n\u001b[1;32m    147\u001b[0m     parse_write_concern_error\u001b[39m=\u001b[39;49m\u001b[39mTrue\u001b[39;49;00m,\n\u001b[1;32m    148\u001b[0m     read_concern\u001b[39m=\u001b[39;49mread_concern,\n\u001b[1;32m    149\u001b[0m     write_concern\u001b[39m=\u001b[39;49mwrite_concern,\n\u001b[1;32m    150\u001b[0m     collation\u001b[39m=\u001b[39;49m\u001b[39mself\u001b[39;49m\u001b[39m.\u001b[39;49m_collation,\n\u001b[1;32m    151\u001b[0m     session\u001b[39m=\u001b[39;49msession,\n\u001b[1;32m    152\u001b[0m     client\u001b[39m=\u001b[39;49m\u001b[39mself\u001b[39;49m\u001b[39m.\u001b[39;49m_database\u001b[39m.\u001b[39;49mclient,\n\u001b[1;32m    153\u001b[0m     user_fields\u001b[39m=\u001b[39;49m\u001b[39mself\u001b[39;49m\u001b[39m.\u001b[39;49m_user_fields,\n\u001b[1;32m    154\u001b[0m )\n\u001b[1;32m    156\u001b[0m \u001b[39mif\u001b[39;00m \u001b[39mself\u001b[39m\u001b[39m.\u001b[39m_result_processor:\n\u001b[1;32m    157\u001b[0m     \u001b[39mself\u001b[39m\u001b[39m.\u001b[39m_result_processor(result, sock_info)\n",
      "File \u001b[0;32m~/Library/Python/3.8/lib/python/site-packages/pymongo/pool.py:795\u001b[0m, in \u001b[0;36mSocketInfo.command\u001b[0;34m(self, dbname, spec, read_preference, codec_options, check, allowable_errors, read_concern, write_concern, parse_write_concern_error, collation, session, client, retryable_write, publish_events, user_fields, exhaust_allowed)\u001b[0m\n\u001b[1;32m    793\u001b[0m \u001b[39m# Catch socket.error, KeyboardInterrupt, etc. and close ourselves.\u001b[39;00m\n\u001b[1;32m    794\u001b[0m \u001b[39mexcept\u001b[39;00m \u001b[39mBaseException\u001b[39;00m \u001b[39mas\u001b[39;00m error:\n\u001b[0;32m--> 795\u001b[0m     \u001b[39mself\u001b[39;49m\u001b[39m.\u001b[39;49m_raise_connection_failure(error)\n",
      "File \u001b[0;32m~/Library/Python/3.8/lib/python/site-packages/pymongo/pool.py:767\u001b[0m, in \u001b[0;36mSocketInfo.command\u001b[0;34m(self, dbname, spec, read_preference, codec_options, check, allowable_errors, read_concern, write_concern, parse_write_concern_error, collation, session, client, retryable_write, publish_events, user_fields, exhaust_allowed)\u001b[0m\n\u001b[1;32m    765\u001b[0m     \u001b[39mself\u001b[39m\u001b[39m.\u001b[39m_raise_if_not_writable(unacknowledged)\n\u001b[1;32m    766\u001b[0m \u001b[39mtry\u001b[39;00m:\n\u001b[0;32m--> 767\u001b[0m     \u001b[39mreturn\u001b[39;00m command(\n\u001b[1;32m    768\u001b[0m         \u001b[39mself\u001b[39;49m,\n\u001b[1;32m    769\u001b[0m         dbname,\n\u001b[1;32m    770\u001b[0m         spec,\n\u001b[1;32m    771\u001b[0m         \u001b[39mself\u001b[39;49m\u001b[39m.\u001b[39;49mis_mongos,\n\u001b[1;32m    772\u001b[0m         read_preference,\n\u001b[1;32m    773\u001b[0m         codec_options,\n\u001b[1;32m    774\u001b[0m         session,\n\u001b[1;32m    775\u001b[0m         client,\n\u001b[1;32m    776\u001b[0m         check,\n\u001b[1;32m    777\u001b[0m         allowable_errors,\n\u001b[1;32m    778\u001b[0m         \u001b[39mself\u001b[39;49m\u001b[39m.\u001b[39;49maddress,\n\u001b[1;32m    779\u001b[0m         listeners,\n\u001b[1;32m    780\u001b[0m         \u001b[39mself\u001b[39;49m\u001b[39m.\u001b[39;49mmax_bson_size,\n\u001b[1;32m    781\u001b[0m         read_concern,\n\u001b[1;32m    782\u001b[0m         parse_write_concern_error\u001b[39m=\u001b[39;49mparse_write_concern_error,\n\u001b[1;32m    783\u001b[0m         collation\u001b[39m=\u001b[39;49mcollation,\n\u001b[1;32m    784\u001b[0m         compression_ctx\u001b[39m=\u001b[39;49m\u001b[39mself\u001b[39;49m\u001b[39m.\u001b[39;49mcompression_context,\n\u001b[1;32m    785\u001b[0m         use_op_msg\u001b[39m=\u001b[39;49m\u001b[39mself\u001b[39;49m\u001b[39m.\u001b[39;49mop_msg_enabled,\n\u001b[1;32m    786\u001b[0m         unacknowledged\u001b[39m=\u001b[39;49munacknowledged,\n\u001b[1;32m    787\u001b[0m         user_fields\u001b[39m=\u001b[39;49muser_fields,\n\u001b[1;32m    788\u001b[0m         exhaust_allowed\u001b[39m=\u001b[39;49mexhaust_allowed,\n\u001b[1;32m    789\u001b[0m         write_concern\u001b[39m=\u001b[39;49mwrite_concern,\n\u001b[1;32m    790\u001b[0m     )\n\u001b[1;32m    791\u001b[0m \u001b[39mexcept\u001b[39;00m (OperationFailure, NotPrimaryError):\n\u001b[1;32m    792\u001b[0m     \u001b[39mraise\u001b[39;00m\n",
      "File \u001b[0;32m~/Library/Python/3.8/lib/python/site-packages/pymongo/network.py:127\u001b[0m, in \u001b[0;36mcommand\u001b[0;34m(sock_info, dbname, spec, is_mongos, read_preference, codec_options, session, client, check, allowable_errors, address, listeners, max_bson_size, read_concern, parse_write_concern_error, collation, compression_ctx, use_op_msg, unacknowledged, user_fields, exhaust_allowed, write_concern)\u001b[0m\n\u001b[1;32m    125\u001b[0m flags \u001b[39m=\u001b[39m _OpMsg\u001b[39m.\u001b[39mMORE_TO_COME \u001b[39mif\u001b[39;00m unacknowledged \u001b[39melse\u001b[39;00m \u001b[39m0\u001b[39m\n\u001b[1;32m    126\u001b[0m flags \u001b[39m|\u001b[39m\u001b[39m=\u001b[39m _OpMsg\u001b[39m.\u001b[39mEXHAUST_ALLOWED \u001b[39mif\u001b[39;00m exhaust_allowed \u001b[39melse\u001b[39;00m \u001b[39m0\u001b[39m\n\u001b[0;32m--> 127\u001b[0m request_id, msg, size, max_doc_size \u001b[39m=\u001b[39m message\u001b[39m.\u001b[39;49m_op_msg(\n\u001b[1;32m    128\u001b[0m     flags, spec, dbname, read_preference, codec_options, ctx\u001b[39m=\u001b[39;49mcompression_ctx\n\u001b[1;32m    129\u001b[0m )\n\u001b[1;32m    130\u001b[0m \u001b[39m# If this is an unacknowledged write then make sure the encoded doc(s)\u001b[39;00m\n\u001b[1;32m    131\u001b[0m \u001b[39m# are small enough, otherwise rely on the server to return an error.\u001b[39;00m\n\u001b[1;32m    132\u001b[0m \u001b[39mif\u001b[39;00m unacknowledged \u001b[39mand\u001b[39;00m max_bson_size \u001b[39mis\u001b[39;00m \u001b[39mnot\u001b[39;00m \u001b[39mNone\u001b[39;00m \u001b[39mand\u001b[39;00m max_doc_size \u001b[39m>\u001b[39m max_bson_size:\n",
      "File \u001b[0;32m~/Library/Python/3.8/lib/python/site-packages/pymongo/message.py:692\u001b[0m, in \u001b[0;36m_op_msg\u001b[0;34m(flags, command, dbname, read_preference, opts, ctx)\u001b[0m\n\u001b[1;32m    690\u001b[0m     \u001b[39mif\u001b[39;00m ctx:\n\u001b[1;32m    691\u001b[0m         \u001b[39mreturn\u001b[39;00m _op_msg_compressed(flags, command, identifier, docs, opts, ctx)\n\u001b[0;32m--> 692\u001b[0m     \u001b[39mreturn\u001b[39;00m _op_msg_uncompressed(flags, command, identifier, docs, opts)\n\u001b[1;32m    693\u001b[0m \u001b[39mfinally\u001b[39;00m:\n\u001b[1;32m    694\u001b[0m     \u001b[39m# Add the field back to the command.\u001b[39;00m\n\u001b[1;32m    695\u001b[0m     \u001b[39mif\u001b[39;00m identifier:\n",
      "\u001b[0;31mInvalidDocument\u001b[0m: cannot encode object: {'$job_details'}, of type: <class 'set'>"
     ]
    }
   ],
   "source": [
    "#先找到重复的数据\n",
    "client = pymongo.MongoClient(\"mongodb://localhost:27017/\")\n",
    "db = client[\"bigdata\"]\n",
    "collection = db['software_engineer_pay']\n",
    "deleteData=collection.aggregate([\n",
    "{'$group': { \n",
    "    '_id': { \"$job_details\"}, \n",
    "    'uniqueIds': { '$addToSet': \"$_id\" },\n",
    "    'count': { '$sum': 1 } \n",
    "  }}, \n",
    "  { '$match': { \n",
    "    'count': { '$gt': 1 } \n",
    "  }}\n",
    "]);\n",
    "first=True\n",
    "for d in deleteData:\n",
    "    first=True\n",
    "    for did in d['uniqueIds']:\n",
    "        if not first:    #第一个不删除\n",
    "            collection.delete_one({'_id':did});\n",
    "        first=False"
   ]
  },
  {
   "attachments": {},
   "cell_type": "markdown",
   "metadata": {},
   "source": [
    "### Data Analyse (Plot salary of different jobs and locations)"
   ]
  },
  {
   "cell_type": "code",
   "execution_count": 12,
   "metadata": {},
   "outputs": [
    {
     "name": "stdout",
     "output_type": "stream",
     "text": [
      "[184000.0, 124000.0, 124000.0, 124000.0, 124000.0, 122000.0, 122000.0, 122000.0, 122000.0, 100000.0, 100000.0, 100000.0, 100000.0, 102000.0, 102000.0, 36000.0, 102000.0, 102000.0, 102000.0, 102000.0, 102000.0, 102000.0, 102000.0, 102000.0, 100000.0, 100000.0, 100000.0, 100000.0, 100000.0, 100000.0, 122000.0, 122000.0, 122000.0, 122000.0, 122000.0, 122000.0, 124000.0, 124000.0, 124000.0, 96000.0, 98000.0]\n"
     ]
    },
    {
     "data": {
      "image/png": "[encoded data removed]",
      "text/plain": [
       "<Figure size 640x480 with 1 Axes>"
      ]
     },
     "metadata": {},
     "output_type": "display_data"
    }
   ],
   "source": [
    "import matplotlib.pyplot as plt\n",
    "import numpy as np\n",
    "client = pymongo.MongoClient(\"mongodb://localhost:27017/\")\n",
    "db = client[\"bigdata\"]\n",
    "collection =db[\"software_engineer_pay\"]\n",
    "query = {\"pay.pay_hourly\" : {\"$gt\": 0}}\n",
    "documents = collection.find(query)\n",
    "job_name = []\n",
    "salary = []\n",
    "for doc in documents:\n",
    "    try:\n",
    "        pay_per_year = doc['pay']['pay_yearly']\n",
    "        salary.append(pay_per_year)\n",
    "        job_name.append(\"software engineer\")\n",
    "    except KeyError:\n",
    "        continue\n",
    "\n",
    "collection =db[\"data_scientist_pay\"]\n",
    "documents = collection.find(query)\n",
    "for doc in documents:\n",
    "    try:\n",
    "        pay_per_year = doc['pay']['pay_yearly']\n",
    "        salary.append(pay_per_year)\n",
    "        job_name.append(\"data scientist\")\n",
    "    except KeyError:\n",
    "        continue\n",
    "\n",
    "collection =db[\"technical_manage_pay\"]\n",
    "documents = collection.find(query)\n",
    "for doc in documents:\n",
    "    try:\n",
    "        pay_per_year = doc['pay']['pay_yearly']\n",
    "        salary.append(pay_per_year)\n",
    "        job_name.append(\"technical manager\")\n",
    "    except KeyError:\n",
    "        continue\n",
    "print(salary)\n",
    "\n",
    "collection =db[\"cloud_developer_pay\"]\n",
    "documents = collection.find(query)\n",
    "for doc in documents:\n",
    "    try:\n",
    "        pay_per_year = doc['pay']['pay_yearly']\n",
    "        salary.append(pay_per_year)\n",
    "        job_name.append(\"cloud developer pay\")\n",
    "    except KeyError:\n",
    "        continue\n",
    "\n",
    "\n",
    "y = np.array(salary)\n",
    "x = np.array(job_name)\n",
    "plt.scatter(x, y)\n",
    "plt.title(\"jobs salary per year($)\")\n",
    "plt.show()"
   ]
  }
 ],
 "metadata": {
  "kernelspec": {
   "display_name": "Python 3",
   "language": "python",
   "name": "python3"
  },
  "language_info": {
   "codemirror_mode": {
    "name": "ipython",
    "version": 3
   },
   "file_extension": ".py",
   "mimetype": "text/x-python",
   "name": "python",
   "nbconvert_exporter": "python",
   "pygments_lexer": "ipython3",
   "version": "3.8.9 (default, Jul 19 2021, 09:37:30) \n[Clang 13.0.0 (clang-1300.0.27.3)]"
  },
  "orig_nbformat": 4,
  "vscode": {
   "interpreter": {
    "hash": "31f2aee4e71d21fbe5cf8b01ff0e069b9275f58929596ceb00d14d90e3e16cd6"
   }
  }
 },
 "nbformat": 4,
 "nbformat_minor": 2
}
